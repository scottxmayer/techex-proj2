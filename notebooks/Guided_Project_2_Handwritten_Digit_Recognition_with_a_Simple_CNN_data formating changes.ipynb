{
 "cells": [
  {
   "cell_type": "markdown",
   "metadata": {
    "id": "BJUhhblyqmA4"
   },
   "source": [
    "# Project 2: Handwritten Digit Recognition with a Simple CNN"
   ]
  },
  {
   "cell_type": "markdown",
   "metadata": {},
   "source": [
    "### Team: \n",
    "    Scott Mayer\n",
    "    Sarafina Gonzalez"
   ]
  },
  {
   "cell_type": "markdown",
   "metadata": {
    "id": "XL5-DXTQqv5h"
   },
   "source": [
    "## Project Overview\n",
    "\n",
    "This project focuses on the development and understanding of a Convolutional Neural Network (CNN) for recognizing handwritten digits using the MNIST dataset. It is structured to provide a comprehensive introduction to deep learning techniques and their practical applications. Participants will engage in:\n",
    "\n",
    "* **Setting up a Python project environment**, emphasizing the importance of virtual environments for effective dependency management in machine learning initiatives.\n",
    "* **Performing data collection and preprocessing**, which includes normalization, reshaping, and batching of image data, essential steps for the successful application of machine learning models.\n",
    "* **Designing and refining a CNN architecture**, where participants will gain hands-on experience in neural network design, layer configuration, and model compilation specific to image recognition tasks.\n",
    "* **Conducting model training and evaluation**, teaching participants to apply training procedures, assess performance metrics, and gauge model accuracy on test data.\n",
    "* **Executing results analysis and model optimization**, aimed at enhancing model performance through methods such as hyperparameter tuning and data augmentation, while mitigating common issues like overfitting.\n",
    "* **Preparing the model for deployment**, which covers model conversion for production environments, development of an interaction interface, and comprehensive project documentation for future scalability and reproducibility.\n",
    "\n",
    "The project aims to build proficiency in utilizing TensorFlow and Keras, equipping participants with the necessary skills to develop, train, and deploy effective machine learning models. Emphasis is placed on following best practices for machine learning project workflows, from data preprocessing to deployment, ensuring participants are well-prepared to handle a variety of data science challenges.\n",
    "\n",
    "**Estimated Completion Time**\n",
    "\n",
    "12 to 14 hours\n"
   ]
  },
  {
   "cell_type": "markdown",
   "metadata": {
    "id": "uqwEw3x50tFk"
   },
   "source": [
    "## Task 1: Project Setup and Environment Preparation\n",
    "\n",
    "**Objective:** Set up the project environment and install necessary libraries to ensure a smooth workflow.\n",
    "\n",
    "**Activities:**\n",
    "\n",
    "1. Install Python and necessary libraries (NumPy, TensorFlow/Keras, Matplotlib, etc.).\n",
    "2. Set up a virtual environment for the project to manage dependencies.\n",
    "3. Verify the installation by running a simple Python script.\n",
    "\n",
    "**Estimated Completion Time:** 60 minutes"
   ]
  },
  {
   "cell_type": "markdown",
   "metadata": {
    "id": "r3c4tfff4qQg"
   },
   "source": [
    "### Imports"
   ]
  },
  {
   "cell_type": "code",
   "execution_count": 3,
   "metadata": {
    "id": "vwbU1G5PSdk0"
   },
   "outputs": [],
   "source": [
    "import numpy as np\n",
    "import tensorflow as tf\n",
    "from tensorflow import keras\n",
    "from keras import layers\n",
    "from keras.optimizers import SGD\n",
    "import pandas as pd\n",
    "import matplotlib.pyplot as plt \n",
    "import sklearn\n",
    "from sklearn.model_selection import train_test_split\n",
    "from tensorflow.keras.preprocessing.image import ImageDataGenerator\n",
    "\n",
    "from tensorflow.keras.callbacks import TensorBoard\n",
    "from tensorflow.keras.callbacks import ModelCheckpoint\n",
    "from tensorflow.keras.callbacks import EarlyStopping\n",
    "from tensorflow.keras.callbacks import ReduceLROnPlateau\n",
    "import datetime \n",
    "\n",
    "from hyperopt import hp \n",
    "from hyperopt import tpe, Trials, fmin\n",
    "from hyperopt import STATUS_OK\n",
    "\n",
    "import mlflow\n",
    "import mlflow.tensorflow\n",
    "import tensorflow as tf\n",
    "\n",
    "import os"
   ]
  },
  {
   "cell_type": "markdown",
   "metadata": {},
   "source": [
    "### Check for GPU Support"
   ]
  },
  {
   "cell_type": "code",
   "execution_count": 48,
   "metadata": {},
   "outputs": [
    {
     "data": {
      "text/plain": [
       "[PhysicalDevice(name='/physical_device:CPU:0', device_type='CPU'),\n",
       " PhysicalDevice(name='/physical_device:GPU:0', device_type='GPU')]"
      ]
     },
     "execution_count": 48,
     "metadata": {},
     "output_type": "execute_result"
    }
   ],
   "source": [
    "tf.config.list_physical_devices()"
   ]
  },
  {
   "cell_type": "markdown",
   "metadata": {
    "id": "ieB-kYcW2zkg"
   },
   "source": [
    "## Task 2: Data Collection and Preprocessing  \n",
    "\n",
    "**Objective:** Gather and prepare the handwritten digits data for training and testing the CNN.  \n",
    "\n",
    "**Activities:**  \n",
    "1. Download the MNIST dataset.  \n",
    "2. Normalize the image pixel values and reshape them for the CNN.  \n",
    "3. Split the data into training, validation, and testing sets.  \n",
    "4. Perform data augmentation to increase the diversity of the training set (e.g., rotations, translations).  \n",
    "5. Implement data loaders for efficient loading and batching operations during training.  \n",
    "6. Visualize the augmented images to verify the data augmentation process.  \n",
    "7. Save the preprocessed data for easy access in subsequent training sessions.\n",
    "\n",
    "**Estimated Completion Time:** 180 minutes"
   ]
  },
  {
   "cell_type": "markdown",
   "metadata": {},
   "source": [
    "**Hints:**\n",
    "\n",
    "  1. Use TensorFlow's Keras API to import the MNIST dataset. This dataset is directly accessible through `tensorflow.keras.datasets`.\n",
    "  2. Load the dataset using `mnist.load_data()`, which automatically splits it into training and test sets. These sets include both the images (handwritten digits) and their corresponding labels.\n",
    "  3. Normalize the pixel values of both training and test images from integers in the range 0-255 to floats in the range 0-1. This step is crucial for neural network models as it helps in faster convergence.\n",
    "  4. Reshape the images to ensure they are in the correct format for the CNN. This typically involves adding a channel dimension, indicating that the images are grayscale.\n",
    "  5. Utilize `train_test_split` from scikit-learn to divide the original training images and labels into a new training set and a validation set. A common split percentage for validation is 10% of the training set.\n",
    "  6. Instantiate an `ImageDataGenerator` with parameters defining the types of transformations (e.g., rotations, shifts, zoom) to apply to the images. https://www.tensorflow.org/api_docs/python/tf/keras/preprocessing/image/ImageDataGenerator\n",
    "  7. This process artificially expands the dataset with modified versions of the original images, helping the model learn from a more varied dataset.\n",
    "  8. Use the `flow` method of the previously created `ImageDataGenerator` to create a training generator. Specify the batch size for how many images to process at a time.\n",
    "  9. Create a similar generator for the validation data. Note that data augmentation is typically only applied to the training data, not the validation data.\n",
    "  10. Generate a batch of augmented images using the training generator.\n",
    "  11. Plot a subset of these images to visually inspect the applied augmentations, ensuring they are realistic and beneficial for training.\n",
    "  12. Use `np.savez_compressed` to save the training, validation, and test sets to a compressed `.npz` file. This method is efficient for storage and quick to load, making it ideal for large datasets.\n",
    "\n",
    "**Additional Insights:**\n",
    "- Carefully choosing data augmentation techniques and parameters is crucial. Over-augmenting the data can introduce unrealistic variations, potentially harming the model's ability to learn.\n",
    "- Validating the preprocessing and augmentation steps through visualization ensures that the data remains meaningful and representative of the task at hand.\n",
    "- Efficient data loading and preprocessing are foundational to training deep learning models, especially when dealing with large datasets or computationally intensive models.\n"
   ]
  },
  {
   "cell_type": "markdown",
   "metadata": {
    "id": "MYk3jAR0L6G0"
   },
   "source": [
    "### Task 2.1: Load the data "
   ]
  },
  {
   "cell_type": "code",
   "execution_count": 4,
   "metadata": {
    "tags": []
   },
   "outputs": [
    {
     "name": "stdout",
     "output_type": "stream",
     "text": [
      "(60000, 28, 28) (60000,) (10000, 28, 28) (10000,)\n"
     ]
    }
   ],
   "source": [
    "# Load and split data into test and train sets\n",
    "(X_train, y_train), (X_test, y_test) = keras.datasets.mnist.load_data()\n",
    "\n",
    "# Check shape\n",
    "print (X_train.shape, y_train.shape, X_test.shape, y_test.shape)"
   ]
  },
  {
   "cell_type": "markdown",
   "metadata": {},
   "source": [
    "We have 60,000 images of size 28x28 pixels in the training set and 10,000 images of the same size in the test set."
   ]
  },
  {
   "cell_type": "markdown",
   "metadata": {},
   "source": [
    "### Task 2.2: Normalize the images "
   ]
  },
  {
   "cell_type": "code",
   "execution_count": 5,
   "metadata": {},
   "outputs": [],
   "source": [
    "# Scale images \n",
    "X_train = X_train / 255\n",
    "X_test = X_test / 255"
   ]
  },
  {
   "cell_type": "code",
   "execution_count": 6,
   "metadata": {},
   "outputs": [
    {
     "name": "stdout",
     "output_type": "stream",
     "text": [
      "(60000, 28, 28, 1) (60000,) (10000, 28, 28, 1) (10000,)\n"
     ]
    }
   ],
   "source": [
    "# Reshape images \n",
    "X_train = X_train.reshape(X_train.shape[0], X_train.shape[1], X_train.shape[1], 1) \n",
    "X_test = X_test.reshape(X_test.shape[0], X_test.shape[1], X_test.shape[1], 1)\n",
    "\n",
    "# Check reshaping\n",
    "print (X_train.shape, y_train.shape, X_test.shape, y_test.shape)"
   ]
  },
  {
   "cell_type": "markdown",
   "metadata": {},
   "source": [
    "In scaling, we changed the pixel values from integers in the range 0-255 to floats in the range 0-1. In reshaping, we added 1 channel as to indicate the images are grayscale."
   ]
  },
  {
   "cell_type": "markdown",
   "metadata": {},
   "source": [
    "### Task 2.3: Split Data into training and testing set"
   ]
  },
  {
   "cell_type": "code",
   "execution_count": 7,
   "metadata": {
    "id": "23e8P7x9L2_s"
   },
   "outputs": [
    {
     "name": "stdout",
     "output_type": "stream",
     "text": [
      "(54000, 28, 28, 1) (54000,) (6000, 28, 28, 1) (6000,)\n"
     ]
    }
   ],
   "source": [
    "# Split train set into train and validation \n",
    "X_train, X_val, y_train, y_val = train_test_split(X_train, y_train, test_size=.1)\n",
    "\n",
    "# Check shape \n",
    "print (X_train.shape, y_train.shape, X_val.shape, y_val.shape)"
   ]
  },
  {
   "cell_type": "markdown",
   "metadata": {},
   "source": [
    "We already split the data into test and train sets when loading the data. Here, we are splitting 10% of the training set to make a validation set. The shape of the train set went from 60,000 images to 54,000, which verifies that 10% (6,000 images) went to the validation set."
   ]
  },
  {
   "cell_type": "markdown",
   "metadata": {},
   "source": [
    "### Task 2.4: Perform data augmentation"
   ]
  },
  {
   "cell_type": "code",
   "execution_count": 8,
   "metadata": {},
   "outputs": [],
   "source": [
    "# Instantiate the ImageDataGenerator\n",
    "datagen = ImageDataGenerator(rotation_range=10, width_shift_range=.2, height_shift_range=.2, zoom_range=.2)\n",
    "# Fit it on our training data\n",
    "datagen.fit(X_train)"
   ]
  },
  {
   "cell_type": "markdown",
   "metadata": {},
   "source": [
    "### Task 2.5: Implement data loaders"
   ]
  },
  {
   "cell_type": "code",
   "execution_count": 9,
   "metadata": {},
   "outputs": [],
   "source": [
    "# Configure batch size\n",
    "batch_size = 64 \n",
    "train_dataset = tf.data.Dataset.from_tensor_slices((X_train, y_train))\n",
    "train_dataset = train_dataset.shuffle(buffer_size=10000).batch(batch_size)\n",
    "\n",
    "val_dataset = tf.data.Dataset.from_tensor_slices((X_val, y_val))\n",
    "val_dataset = val_dataset.batch(batch_size)\n",
    "\n",
    "test_dataset = tf.data.Dataset.from_tensor_slices((X_test, y_test))\n",
    "test_dataset = test_dataset.batch(batch_size)"
   ]
  },
  {
   "cell_type": "markdown",
   "metadata": {},
   "source": [
    "### Task 2.6: Visualize augmented images"
   ]
  },
  {
   "cell_type": "code",
   "execution_count": 54,
   "metadata": {},
   "outputs": [
    {
     "data": {
      "image/png": "[encoded data removed]",
      "text/plain": [
       "<Figure size 1000x1000 with 9 Axes>"
      ]
     },
     "metadata": {},
     "output_type": "display_data"
    }
   ],
   "source": [
    "# Generate augmented images\n",
    "augmented_images = next(datagen.flow(X_train, batch_size=9))\n",
    "\n",
    "# Plot augmented images\n",
    "plt.figure(figsize=(10, 10))\n",
    "for i in range(9):\n",
    "    plt.subplot(3, 3, i + 1)\n",
    "    plt.imshow(augmented_images[i].reshape(28, 28), cmap='gray_r')\n",
    "    plt.axis('off')\n",
    "plt.show()"
   ]
  },
  {
   "cell_type": "markdown",
   "metadata": {},
   "source": [
    "### Task 2.7: Save preproccessed data"
   ]
  },
  {
   "cell_type": "code",
   "execution_count": null,
   "metadata": {},
   "outputs": [],
   "source": [
    "# Unaugmented images\n",
    "np.savez('../data/mnist_preprocessed.npz', X_train=X_train, y_train=y_train, X_val=X_val, y_val=y_val, X_test=X_test, y_test=y_test)"
   ]
  },
  {
   "cell_type": "code",
   "execution_count": 107,
   "metadata": {
    "tags": []
   },
   "outputs": [],
   "source": [
    "data = np.load('../data/mnist_preprocessed.npz')\n",
    "X_train = data['X_train']\n",
    "X_test = data['X_test']\n",
    "X_val = data['X_val']\n",
    "y_train = data['y_train']\n",
    "y_test = data['y_test']\n",
    "y_val = data['y_val']\n",
    "\n",
    "X_train, y_train = next(datagen.flow(X_train,y=y_train, batch_size=X_train.shape[0]))\n",
    "X_test, y_test = next(datagen.flow(X_test,y=y_test, batch_size=X_test.shape[0]))\n",
    "X_val, y_val = next(datagen.flow(X_val, y=y_val,batch_size=X_val.shape[0]))\n",
    "np.savez('../data/mnist_data_augmented.npz', X_train=X_train, y_train=y_train, X_val=X_val, y_val=y_val, X_test=X_test, y_test=y_test)"
   ]
  },
  {
   "cell_type": "markdown",
   "metadata": {
    "id": "yTHf_FY0RKgx"
   },
   "source": [
    "---\n",
    "---"
   ]
  },
  {
   "cell_type": "markdown",
   "metadata": {
    "id": "I1kUAhZb2ziE"
   },
   "source": [
    "## Task 3: Designing the CNN Architecture\n",
    "\n",
    "**Objective:** Design a simple Convolutional Neural Network architecture suitable for handwritten digit recognition.  \n",
    "\n",
    "**Activities:**\n",
    "\n",
    "1. Define the CNN layers, including convolutional, activation, pooling, and fully connected layers.  \n",
    "2. Choose activation functions and initialize weights.  \n",
    "3. Configure the optimizer, loss function, and metrics for model compilation.  \n",
    "4. Summarize the model to visualize the architecture and parameters.\n",
    "\n",
    "**Estimated Completion Time:** 90 minutes"
   ]
  },
  {
   "cell_type": "markdown",
   "metadata": {
    "id": "T1JpyYH6RRnI"
   },
   "source": [
    "**Hints:**\n",
    "\n",
    "1. **Start Simple:** Begin with a `Sequential` model from Keras, allowing you to stack layers.\n",
    "2. **Convolutional Layers:** Add a `Conv2D` layer as the first layer with a modest number of filters (e.g., 32) and a small kernel size (e.g., (3, 3)), followed by an activation function like `ReLU`.\n",
    "3. **Pooling Layers:** Follow each convolutional layer with a `MaxPooling2D` layer to reduce spatial dimensions.\n",
    "4. **Flattening:** After the last pooling layer, use a `Flatten` layer to convert the 2D features into a 1D vector.\n",
    "5. **Dense Layers:** Add a `Dense` layer with `ReLU` activation for learning non-linear combinations of features. The last dense layer should have a softmax activation with a number of neurons equal to the number of classes in the dataset.\n",
    "6. **Dropout:** Include `Dropout` layers to prevent overfitting, especially before the final dense layers."
   ]
  },
  {
   "cell_type": "markdown",
   "metadata": {},
   "source": [
    "### Task 3.1 Build the Sequential Model"
   ]
  },
  {
   "cell_type": "code",
   "execution_count": 56,
   "metadata": {
    "id": "Wmk2qENzRXIk"
   },
   "outputs": [
    {
     "data": {
      "text/html": [
       "<pre style=\"white-space:pre;overflow-x:auto;line-height:normal;font-family:Menlo,'DejaVu Sans Mono',consolas,'Courier New',monospace\"><span style=\"font-weight: bold\">Model: \"sequential_25\"</span>\n",
       "</pre>\n"
      ],
      "text/plain": [
       "\u001b[1mModel: \"sequential_25\"\u001b[0m\n"
      ]
     },
     "metadata": {},
     "output_type": "display_data"
    },
    {
     "data": {
      "text/html": [
       "<pre style=\"white-space:pre;overflow-x:auto;line-height:normal;font-family:Menlo,'DejaVu Sans Mono',consolas,'Courier New',monospace\">┏━━━━━━━━━━━━━━━━━━━━━━━━━━━━━━━━━┳━━━━━━━━━━━━━━━━━━━━━━━━┳━━━━━━━━━━━━━━━┓\n",
       "┃<span style=\"font-weight: bold\"> Layer (type)                    </span>┃<span style=\"font-weight: bold\"> Output Shape           </span>┃<span style=\"font-weight: bold\">       Param # </span>┃\n",
       "┡━━━━━━━━━━━━━━━━━━━━━━━━━━━━━━━━━╇━━━━━━━━━━━━━━━━━━━━━━━━╇━━━━━━━━━━━━━━━┩\n",
       "│ CL1 (<span style=\"color: #0087ff; text-decoration-color: #0087ff\">Conv2D</span>)                    │ (<span style=\"color: #00d7ff; text-decoration-color: #00d7ff\">None</span>, <span style=\"color: #00af00; text-decoration-color: #00af00\">26</span>, <span style=\"color: #00af00; text-decoration-color: #00af00\">26</span>, <span style=\"color: #00af00; text-decoration-color: #00af00\">32</span>)     │           <span style=\"color: #00af00; text-decoration-color: #00af00\">320</span> │\n",
       "├─────────────────────────────────┼────────────────────────┼───────────────┤\n",
       "│ MPL1 (<span style=\"color: #0087ff; text-decoration-color: #0087ff\">MaxPooling2D</span>)             │ (<span style=\"color: #00d7ff; text-decoration-color: #00d7ff\">None</span>, <span style=\"color: #00af00; text-decoration-color: #00af00\">13</span>, <span style=\"color: #00af00; text-decoration-color: #00af00\">13</span>, <span style=\"color: #00af00; text-decoration-color: #00af00\">32</span>)     │             <span style=\"color: #00af00; text-decoration-color: #00af00\">0</span> │\n",
       "├─────────────────────────────────┼────────────────────────┼───────────────┤\n",
       "│ CL2 (<span style=\"color: #0087ff; text-decoration-color: #0087ff\">Conv2D</span>)                    │ (<span style=\"color: #00d7ff; text-decoration-color: #00d7ff\">None</span>, <span style=\"color: #00af00; text-decoration-color: #00af00\">11</span>, <span style=\"color: #00af00; text-decoration-color: #00af00\">11</span>, <span style=\"color: #00af00; text-decoration-color: #00af00\">32</span>)     │         <span style=\"color: #00af00; text-decoration-color: #00af00\">9,248</span> │\n",
       "├─────────────────────────────────┼────────────────────────┼───────────────┤\n",
       "│ MPL2 (<span style=\"color: #0087ff; text-decoration-color: #0087ff\">MaxPooling2D</span>)             │ (<span style=\"color: #00d7ff; text-decoration-color: #00d7ff\">None</span>, <span style=\"color: #00af00; text-decoration-color: #00af00\">5</span>, <span style=\"color: #00af00; text-decoration-color: #00af00\">5</span>, <span style=\"color: #00af00; text-decoration-color: #00af00\">32</span>)       │             <span style=\"color: #00af00; text-decoration-color: #00af00\">0</span> │\n",
       "├─────────────────────────────────┼────────────────────────┼───────────────┤\n",
       "│ FL (<span style=\"color: #0087ff; text-decoration-color: #0087ff\">Flatten</span>)                    │ (<span style=\"color: #00d7ff; text-decoration-color: #00d7ff\">None</span>, <span style=\"color: #00af00; text-decoration-color: #00af00\">800</span>)            │             <span style=\"color: #00af00; text-decoration-color: #00af00\">0</span> │\n",
       "├─────────────────────────────────┼────────────────────────┼───────────────┤\n",
       "│ DE1 (<span style=\"color: #0087ff; text-decoration-color: #0087ff\">Dense</span>)                     │ (<span style=\"color: #00d7ff; text-decoration-color: #00d7ff\">None</span>, <span style=\"color: #00af00; text-decoration-color: #00af00\">10</span>)             │         <span style=\"color: #00af00; text-decoration-color: #00af00\">8,010</span> │\n",
       "├─────────────────────────────────┼────────────────────────┼───────────────┤\n",
       "│ DP1 (<span style=\"color: #0087ff; text-decoration-color: #0087ff\">Dropout</span>)                   │ (<span style=\"color: #00d7ff; text-decoration-color: #00d7ff\">None</span>, <span style=\"color: #00af00; text-decoration-color: #00af00\">10</span>)             │             <span style=\"color: #00af00; text-decoration-color: #00af00\">0</span> │\n",
       "├─────────────────────────────────┼────────────────────────┼───────────────┤\n",
       "│ DE2 (<span style=\"color: #0087ff; text-decoration-color: #0087ff\">Dense</span>)                     │ (<span style=\"color: #00d7ff; text-decoration-color: #00d7ff\">None</span>, <span style=\"color: #00af00; text-decoration-color: #00af00\">10</span>)             │           <span style=\"color: #00af00; text-decoration-color: #00af00\">110</span> │\n",
       "└─────────────────────────────────┴────────────────────────┴───────────────┘\n",
       "</pre>\n"
      ],
      "text/plain": [
       "┏━━━━━━━━━━━━━━━━━━━━━━━━━━━━━━━━━┳━━━━━━━━━━━━━━━━━━━━━━━━┳━━━━━━━━━━━━━━━┓\n",
       "┃\u001b[1m \u001b[0m\u001b[1mLayer (type)                   \u001b[0m\u001b[1m \u001b[0m┃\u001b[1m \u001b[0m\u001b[1mOutput Shape          \u001b[0m\u001b[1m \u001b[0m┃\u001b[1m \u001b[0m\u001b[1m      Param #\u001b[0m\u001b[1m \u001b[0m┃\n",
       "┡━━━━━━━━━━━━━━━━━━━━━━━━━━━━━━━━━╇━━━━━━━━━━━━━━━━━━━━━━━━╇━━━━━━━━━━━━━━━┩\n",
       "│ CL1 (\u001b[38;5;33mConv2D\u001b[0m)                    │ (\u001b[38;5;45mNone\u001b[0m, \u001b[38;5;34m26\u001b[0m, \u001b[38;5;34m26\u001b[0m, \u001b[38;5;34m32\u001b[0m)     │           \u001b[38;5;34m320\u001b[0m │\n",
       "├─────────────────────────────────┼────────────────────────┼───────────────┤\n",
       "│ MPL1 (\u001b[38;5;33mMaxPooling2D\u001b[0m)             │ (\u001b[38;5;45mNone\u001b[0m, \u001b[38;5;34m13\u001b[0m, \u001b[38;5;34m13\u001b[0m, \u001b[38;5;34m32\u001b[0m)     │             \u001b[38;5;34m0\u001b[0m │\n",
       "├─────────────────────────────────┼────────────────────────┼───────────────┤\n",
       "│ CL2 (\u001b[38;5;33mConv2D\u001b[0m)                    │ (\u001b[38;5;45mNone\u001b[0m, \u001b[38;5;34m11\u001b[0m, \u001b[38;5;34m11\u001b[0m, \u001b[38;5;34m32\u001b[0m)     │         \u001b[38;5;34m9,248\u001b[0m │\n",
       "├─────────────────────────────────┼────────────────────────┼───────────────┤\n",
       "│ MPL2 (\u001b[38;5;33mMaxPooling2D\u001b[0m)             │ (\u001b[38;5;45mNone\u001b[0m, \u001b[38;5;34m5\u001b[0m, \u001b[38;5;34m5\u001b[0m, \u001b[38;5;34m32\u001b[0m)       │             \u001b[38;5;34m0\u001b[0m │\n",
       "├─────────────────────────────────┼────────────────────────┼───────────────┤\n",
       "│ FL (\u001b[38;5;33mFlatten\u001b[0m)                    │ (\u001b[38;5;45mNone\u001b[0m, \u001b[38;5;34m800\u001b[0m)            │             \u001b[38;5;34m0\u001b[0m │\n",
       "├─────────────────────────────────┼────────────────────────┼───────────────┤\n",
       "│ DE1 (\u001b[38;5;33mDense\u001b[0m)                     │ (\u001b[38;5;45mNone\u001b[0m, \u001b[38;5;34m10\u001b[0m)             │         \u001b[38;5;34m8,010\u001b[0m │\n",
       "├─────────────────────────────────┼────────────────────────┼───────────────┤\n",
       "│ DP1 (\u001b[38;5;33mDropout\u001b[0m)                   │ (\u001b[38;5;45mNone\u001b[0m, \u001b[38;5;34m10\u001b[0m)             │             \u001b[38;5;34m0\u001b[0m │\n",
       "├─────────────────────────────────┼────────────────────────┼───────────────┤\n",
       "│ DE2 (\u001b[38;5;33mDense\u001b[0m)                     │ (\u001b[38;5;45mNone\u001b[0m, \u001b[38;5;34m10\u001b[0m)             │           \u001b[38;5;34m110\u001b[0m │\n",
       "└─────────────────────────────────┴────────────────────────┴───────────────┘\n"
      ]
     },
     "metadata": {},
     "output_type": "display_data"
    },
    {
     "data": {
      "text/html": [
       "<pre style=\"white-space:pre;overflow-x:auto;line-height:normal;font-family:Menlo,'DejaVu Sans Mono',consolas,'Courier New',monospace\"><span style=\"font-weight: bold\"> Total params: </span><span style=\"color: #00af00; text-decoration-color: #00af00\">17,688</span> (69.09 KB)\n",
       "</pre>\n"
      ],
      "text/plain": [
       "\u001b[1m Total params: \u001b[0m\u001b[38;5;34m17,688\u001b[0m (69.09 KB)\n"
      ]
     },
     "metadata": {},
     "output_type": "display_data"
    },
    {
     "data": {
      "text/html": [
       "<pre style=\"white-space:pre;overflow-x:auto;line-height:normal;font-family:Menlo,'DejaVu Sans Mono',consolas,'Courier New',monospace\"><span style=\"font-weight: bold\"> Trainable params: </span><span style=\"color: #00af00; text-decoration-color: #00af00\">17,688</span> (69.09 KB)\n",
       "</pre>\n"
      ],
      "text/plain": [
       "\u001b[1m Trainable params: \u001b[0m\u001b[38;5;34m17,688\u001b[0m (69.09 KB)\n"
      ]
     },
     "metadata": {},
     "output_type": "display_data"
    },
    {
     "data": {
      "text/html": [
       "<pre style=\"white-space:pre;overflow-x:auto;line-height:normal;font-family:Menlo,'DejaVu Sans Mono',consolas,'Courier New',monospace\"><span style=\"font-weight: bold\"> Non-trainable params: </span><span style=\"color: #00af00; text-decoration-color: #00af00\">0</span> (0.00 B)\n",
       "</pre>\n"
      ],
      "text/plain": [
       "\u001b[1m Non-trainable params: \u001b[0m\u001b[38;5;34m0\u001b[0m (0.00 B)\n"
      ]
     },
     "metadata": {},
     "output_type": "display_data"
    },
    {
     "name": "stdout",
     "output_type": "stream",
     "text": [
      "[<KerasTensor shape=(None, 28, 28, 1), dtype=float32, sparse=None, name=keras_tensor_225>] [<KerasTensor shape=(None, 10), dtype=float32, sparse=False, name=keras_tensor_233>]\n"
     ]
    }
   ],
   "source": [
    "def build_model(params):\n",
    "  '''\n",
    "   Build a Sequential model with regular densely-connected NN layers.\n",
    "   Return the constructed model. \n",
    "  ''' \n",
    "  input_shape = (28, 28, 1)  # 1 is the count of channels (no RGB)\n",
    "  num_classes=10\n",
    "\n",
    "  model = keras.Sequential ([ \n",
    "\n",
    "    # // The input layer\n",
    "    layers.Input(shape=input_shape),\n",
    "\n",
    "    # // Hidden layers\n",
    "    layers.Conv2D(int(params['filter_1']), kernel_size=(3, 3), activation=\"relu\", name='CL1'),\n",
    "    layers.MaxPooling2D(pool_size=(2, 2), name='MPL1'),\n",
    "\n",
    "    layers.Conv2D(int(params['filter_2']), kernel_size=(3, 3), activation=\"relu\", name='CL2'),\n",
    "    layers.MaxPooling2D(pool_size=(2, 2), name='MPL2'),\n",
    "      \n",
    "    layers.Flatten(name='FL'),\n",
    "\n",
    "    layers.Dense(num_classes, name=\"DE1\", activation='relu'),\n",
    "  \n",
    "    layers.Dropout(rate=params['dropout_rate'], name=\"DP1\"),  \n",
    "    layers.Dense(num_classes, name=\"DE2\", activation='softmax')\n",
    "  ])\n",
    "\n",
    "  # Task 3.4 : Summarize model\n",
    "  model.summary()\n",
    "  print (model.inputs, model.outputs)\n",
    "\n",
    "  return model\n",
    "\n",
    "model = build_model({'filter_1':32, 'filter_2':32, 'dropout_rate':.2, 'epochs':1})"
   ]
  },
  {
   "cell_type": "code",
   "execution_count": 57,
   "metadata": {},
   "outputs": [],
   "source": [
    "def compile_model(model):\n",
    "  '''\n",
    "    Compile the pre-built model with the model hyperparameters.\n",
    "    Return the compiled model\n",
    "  '''\n",
    "  model.compile(    \n",
    "      #optimizer=keras.optimizers.RMSprop(), \n",
    "      optimizer=SGD(learning_rate=1e-2, momentum=0.9, nesterov=True),\n",
    "\n",
    "      # The loss function that we need to minimize\n",
    "      loss=keras.losses.SparseCategoricalCrossentropy(),  # we have a lot of \"holes\" in the dataset (the black pixels with a value of 0)\n",
    "     \n",
    "      # The metrics (can be more than one) to monitor\n",
    "      metrics=[keras.metrics.SparseCategoricalAccuracy(), \"accuracy\"], # The \"dangling\" comma , before the closing bracket is good practice ...\n",
    "    \n",
    "  )\n",
    "\n",
    "  return model\n",
    "\n",
    "model = compile_model(model)\n"
   ]
  },
  {
   "cell_type": "markdown",
   "metadata": {
    "id": "VGDQQvgm2zfL"
   },
   "source": [
    "\n",
    "## Task 4: Model Training and Evaluation\n",
    "\n",
    "**Objective:** Train the CNN with the training data and evaluate its performance on the test set.  \n",
    "\n",
    "**Activities:**\n",
    "\n",
    "1. Integrate TensorBoard callbacks for real-time tracking of training metrics.\n",
    "2. Set up callbacks for model checkpoints, early stopping, and learning rate adjustments.  \n",
    "3. Train the model with the training set while validating on the validation set.  \n",
    "4. Use TensorBoard to plot training and validation loss and accuracy.  \n",
    "5. Evaluate the model on the test set to assess its generalization capability.  \n",
    "6. Perform error analysis by reviewing misclassified images to understand the model's weaknesses.  \n",
    "7. Test the model with external images (e.g., hand-drawn digits) to further assess its performance.\n",
    "\n",
    "**Estimated Completion Time:** 300 minutes"
   ]
  },
  {
   "cell_type": "markdown",
   "metadata": {
    "id": "HuOTXjcQT7rm"
   },
   "source": [
    "**Hints:**\n",
    "\n",
    "  1. Import the `TensorBoard` callback from `tensorflow.keras.callbacks`.\n",
    "  2. Utilize the `datetime` module to dynamically generate log directory names based on the current date and time, ensuring each training session's logs are stored separately.\n",
    "  3. Initialize the `TensorBoard` callback with the `log_dir` specifying the log directory. Setting `histogram_freq=1` configures TensorBoard to record histograms every epoch, enabling the visualization of weights and biases distributions over time.\n",
    "  4. Use `ModelCheckpoint` to save the model during training. Specify the filename (e.g., 'model.h5') and set `save_best_only=True` to only save the model when its performance on the validation set improves.\n",
    "  5. Implement `EarlyStopping` to halt training early if the validation performance doesn't improve for a defined number of epochs (`patience`). `restore_best_weights=True` ensures the model reverts to the weights of its best performance.\n",
    "  6. Use `ReduceLROnPlateau` to automatically reduce the learning rate when the model's improvement on the validation set stalls. Define `patience` for the number of epochs to wait before reducing and `factor` to determine the rate at which the learning rate is reduced.\n",
    "  7. Use the `model.fit()` method, providing it with the training data (and corresponding labels) along with the validation data.\n",
    "  8. Specify the number of epochs for the training. An epoch is one complete pass through the entire training dataset.\n",
    "  9. Pass the list of callbacks (`tensorboard_callback`, `checkpoint_callback`, `early_stopping_callback`, `reduce_lr_callback`) to the `callbacks` parameter of `model.fit()`. This integrates TensorBoard logging, model checkpointing, early stopping, and learning rate reduction into the training process."
   ]
  },
  {
   "cell_type": "markdown",
   "metadata": {},
   "source": [
    "### Task 4.1-4: TensorBoard"
   ]
  },
  {
   "cell_type": "code",
   "execution_count": 63,
   "metadata": {},
   "outputs": [],
   "source": [
    "experiment_name = datetime.datetime.now().strftime(\"%Y%m%d-%H%M%S\")\n",
    "log_dir = \"../logs/\" + experiment_name\n",
    "tensorboard_callback = TensorBoard(log_dir=log_dir, histogram_freq=1)\n",
    "checkpoint_callback = ModelCheckpoint(\"../models/model_\" + experiment_name + \".h5.keras\", save_best_only=True)\n",
    "early_stopping_callback = EarlyStopping(patience=5, restore_best_weights=True)\n",
    "reduce_lr_callback = ReduceLROnPlateau(patience=5, factor=0.1)"
   ]
  },
  {
   "cell_type": "code",
   "execution_count": 64,
   "metadata": {},
   "outputs": [
    {
     "name": "stderr",
     "output_type": "stream",
     "text": [
      "2024/04/12 15:37:02 INFO mlflow.utils.autologging_utils: Created MLflow autologging run with ID '89a3338e56e144bf84a7183e733db35f', which will track hyperparameters, performance metrics, model artifacts, and lineage information for the current tensorflow workflow\n"
     ]
    },
    {
     "data": {
      "text/html": [
       "<pre style=\"white-space:pre;overflow-x:auto;line-height:normal;font-family:Menlo,'DejaVu Sans Mono',consolas,'Courier New',monospace\"></pre>\n"
      ],
      "text/plain": []
     },
     "metadata": {},
     "output_type": "display_data"
    },
    {
     "name": "stdout",
     "output_type": "stream",
     "text": [
      "\u001b[1m422/422\u001b[0m \u001b[32m━━━━━━━━━━━━━━━━━━━━\u001b[0m\u001b[37m\u001b[0m \u001b[1m5s\u001b[0m 12ms/step - accuracy: 0.2668 - loss: 1.8580 - sparse_categorical_accuracy: 0.2668 - val_accuracy: 0.9247 - val_loss: 1.0177 - val_sparse_categorical_accuracy: 0.9247 - learning_rate: 0.0100\n",
      "\u001b[1m1/1\u001b[0m \u001b[32m━━━━━━━━━━━━━━━━━━━━\u001b[0m\u001b[37m\u001b[0m \u001b[1m0s\u001b[0m 72ms/step\n"
     ]
    }
   ],
   "source": [
    "history = model.fit(X_train, y_train, validation_data=(X_val, y_val), batch_size = 128, epochs = 1, verbose=1, callbacks=[tensorboard_callback, checkpoint_callback, early_stopping_callback, reduce_lr_callback])\n"
   ]
  },
  {
   "cell_type": "markdown",
   "metadata": {},
   "source": [
    "### Task 4.5: Evaluate Accuracy"
   ]
  },
  {
   "cell_type": "code",
   "execution_count": 65,
   "metadata": {},
   "outputs": [
    {
     "name": "stdout",
     "output_type": "stream",
     "text": [
      "\u001b[1m313/313\u001b[0m \u001b[32m━━━━━━━━━━━━━━━━━━━━\u001b[0m\u001b[37m\u001b[0m \u001b[1m2s\u001b[0m 5ms/step - accuracy: 0.9173 - loss: 1.0359 - sparse_categorical_accuracy: 0.9173\n"
     ]
    },
    {
     "data": {
      "text/plain": [
       "[0.992358386516571, 0.932699978351593, 0.932699978351593]"
      ]
     },
     "execution_count": 65,
     "metadata": {},
     "output_type": "execute_result"
    }
   ],
   "source": [
    "model.evaluate(X_test, y_test)"
   ]
  },
  {
   "cell_type": "markdown",
   "metadata": {},
   "source": [
    "### Task 4.6: Peform Error Analysis"
   ]
  },
  {
   "cell_type": "code",
   "execution_count": 66,
   "metadata": {},
   "outputs": [
    {
     "name": "stdout",
     "output_type": "stream",
     "text": [
      "(10000, 28, 28, 1)\n"
     ]
    }
   ],
   "source": [
    "print(X_test.shape)"
   ]
  },
  {
   "cell_type": "code",
   "execution_count": 67,
   "metadata": {},
   "outputs": [
    {
     "name": "stdout",
     "output_type": "stream",
     "text": [
      "\u001b[1m313/313\u001b[0m \u001b[32m━━━━━━━━━━━━━━━━━━━━\u001b[0m\u001b[37m\u001b[0m \u001b[1m1s\u001b[0m 1ms/step\n"
     ]
    }
   ],
   "source": [
    "y_pred = model.predict(X_test)"
   ]
  },
  {
   "cell_type": "code",
   "execution_count": 68,
   "metadata": {},
   "outputs": [
    {
     "data": {
      "image/png": "[encoded data removed]",
      "text/plain": [
       "<Figure size 640x480 with 20 Axes>"
      ]
     },
     "metadata": {},
     "output_type": "display_data"
    }
   ],
   "source": [
    "\n",
    "y_pred_labels = np.zeros(len(y_pred), dtype=int)\n",
    "for i in range(len(y_pred)):\n",
    "  y_pred_labels[i] = np.argmax(y_pred[i])\n",
    "\n",
    "count = 0\n",
    "for i in range(len(y_pred)):\n",
    "    if y_pred_labels[i] != y_test[i]:\n",
    "        count+=1\n",
    "        #print(f\"True: {y_test[i]}\\t Pred: {y_pred_labels[i]}\")\n",
    "        if count >= 20:\n",
    "            break\n",
    "\n",
    "j = 0 \n",
    "for i in range(len(y_pred)):\n",
    "    \n",
    "    if y_pred_labels[i] != y_test[i]:\n",
    "        j+=1\n",
    "        plt.subplot(int(count/10)+1, 10, j)\n",
    "        plt.imshow(X_test[i].reshape(28, 28), cmap='binary')\n",
    "        plt.axis('off')\n",
    "    if j >= 20:\n",
    "        break\n",
    "plt.show()"
   ]
  },
  {
   "cell_type": "code",
   "execution_count": 69,
   "metadata": {},
   "outputs": [
    {
     "name": "stdout",
     "output_type": "stream",
     "text": [
      "tf.Tensor(\n",
      "[[ 971    1    1    0    1    5   18    0    8    4]\n",
      " [   1 1114   14    0   13    0    4   39    3    7]\n",
      " [   0   10  956    3    1    1    0   25   10    1]\n",
      " [   0    1   26  972    0   32    0    1   20    9]\n",
      " [   0    8    4    1  841    2    1    0   18   17]\n",
      " [   0    0    0   18    1  839    3    0   16   25]\n",
      " [   3    1    3    0    8    7  930    0   11    1]\n",
      " [   4    0   11    6    2    1    0  912    8    8]\n",
      " [   1    0   15    4    3    2    2    2  857    2]\n",
      " [   0    0    2    6  112    3    0   49   23  935]], shape=(10, 10), dtype=int32)\n",
      "[[  0   1   1   0   1   5  18   0   8   4]\n",
      " [  1   0  14   0  13   0   4  39   3   7]\n",
      " [  0  10   0   3   1   1   0  25  10   1]\n",
      " [  0   1  26   0   0  32   0   1  20   9]\n",
      " [  0   8   4   1   0   2   1   0  18  17]\n",
      " [  0   0   0  18   1   0   3   0  16  25]\n",
      " [  3   1   3   0   8   7   0   0  11   1]\n",
      " [  4   0  11   6   2   1   0   0   8   8]\n",
      " [  1   0  15   4   3   2   2   2   0   2]\n",
      " [  0   0   2   6 112   3   0  49  23   0]]\n",
      "0 was confused for 6 18 times...\n",
      "1 was confused for 7 39 times...\n",
      "2 was confused for 7 25 times...\n",
      "3 was confused for 5 32 times...\n",
      "4 was confused for 8 18 times...\n",
      "5 was confused for 9 25 times...\n",
      "6 was confused for 8 11 times...\n",
      "7 was confused for 2 11 times...\n",
      "8 was confused for 2 15 times...\n",
      "9 was confused for 4 112 times...\n"
     ]
    }
   ],
   "source": [
    "cf = tf.math.confusion_matrix(y_pred_labels, y_test)\n",
    "print (cf)\n",
    "cf_np = cf.numpy(); cf_np\n",
    "for r in range(cf_np.shape[0]):\n",
    "  cf_np[r,r] = 0\n",
    "print (cf_np)\n",
    "\n",
    "max_cf = cf_np.max(axis = 1); max_cf\n",
    "\n",
    "for r in range(cf_np.shape[0]):\n",
    "   m = np.argmax(cf_np[r])\n",
    "   print (f'{r} was confused for {m} {cf_np[r,m]} times...')"
   ]
  },
  {
   "cell_type": "markdown",
   "metadata": {},
   "source": [
    "### Task 4.7: Test on our own handrawn data"
   ]
  },
  {
   "cell_type": "code",
   "execution_count": 129,
   "metadata": {},
   "outputs": [
    {
     "data": {
      "image/png": "[encoded data removed]",
      "text/plain": [
       "<Figure size 640x480 with 10 Axes>"
      ]
     },
     "metadata": {},
     "output_type": "display_data"
    }
   ],
   "source": [
    "from PIL import Image\n",
    "thresh = 180\n",
    "images = []\n",
    "np_images = np.zeros((10, 28, 28))\n",
    "\n",
    "\n",
    "for i in range(0, 10):\n",
    "    if not os.path.isfile(f\"../images/{i}.png\"):\n",
    "        print(\"ERROR: image files not found\")\n",
    "        break\n",
    "    \n",
    "    images.append(Image.open(f\"../images/{i}.png\"))\n",
    "    \n",
    "    images[i] = images[i].resize((28, 28))\n",
    "\n",
    "    fn = lambda x : 255 if x < thresh else 0\n",
    "    images[i] = images[i].convert('L').point(fn)\n",
    "    np_images[i] = np.array(images[i])\n",
    "    \n",
    "    plt.subplot(1, 10, i+1)\n",
    "    plt.imshow(images[i], cmap='binary')\n",
    "    plt.axis('off')\n",
    "\n"
   ]
  },
  {
   "cell_type": "code",
   "execution_count": 71,
   "metadata": {},
   "outputs": [],
   "source": [
    "np_images = np_images / 255 ; \n",
    "np_images = np_images.reshape(np_images.shape[0], np_images.shape[1], np_images.shape[2], 1)"
   ]
  },
  {
   "cell_type": "code",
   "execution_count": 72,
   "metadata": {},
   "outputs": [
    {
     "name": "stdout",
     "output_type": "stream",
     "text": [
      "\u001b[1m1/1\u001b[0m \u001b[32m━━━━━━━━━━━━━━━━━━━━\u001b[0m\u001b[37m\u001b[0m \u001b[1m0s\u001b[0m 56ms/step\n"
     ]
    }
   ],
   "source": [
    "y_pred = model.predict(np_images)"
   ]
  },
  {
   "cell_type": "code",
   "execution_count": 73,
   "metadata": {},
   "outputs": [
    {
     "name": "stdout",
     "output_type": "stream",
     "text": [
      "0\t6\n",
      "1\t2\n",
      "2\t2\n",
      "3\t3\n",
      "4\t9\n",
      "5\t5\n",
      "6\t5\n",
      "7\t9\n",
      "8\t5\n",
      "9\t9\n"
     ]
    }
   ],
   "source": [
    "y_pred_labels = np.zeros(len(y_pred), dtype=int)\n",
    "for i in range(len(y_pred)):\n",
    "  y_pred_labels[i] = np.argmax(y_pred[i])\n",
    "  print(f\"{i}\\t{y_pred_labels[i]}\")"
   ]
  },
  {
   "cell_type": "markdown",
   "metadata": {},
   "source": [
    "#### Observations\n",
    "The model accurately predicts all of the provided numbers except for 7, but I draw my 7's with a crossbar which is likely not in the training data. "
   ]
  },
  {
   "cell_type": "markdown",
   "metadata": {
    "id": "pHcwFbyEUfJQ"
   },
   "source": [
    "---\n",
    "---"
   ]
  },
  {
   "cell_type": "markdown",
   "metadata": {
    "id": "mMLzoQiS2zW9"
   },
   "source": [
    "\n",
    "## **Task 5: Results Analysis and Model Tuning**  \n",
    "\n",
    "**Objective:** Analyze the results and refine the model for better performance.  \n",
    "\n",
    "**Activities:**\n",
    "\n",
    "1. Use TensorBoard to perform detailed analysis of model performance, including confusion matrices and histograms of model weights.\n",
    "2. Investigate layer activations and feature maps to understand what the model is learning.\n",
    "3. Experiment with different architectures using `model.get_config()` and hyperparameters to improve performance.\n",
    "4. Apply techniques like dropout and batch normalization to mitigate overfitting.\n",
    "5. Evaluate the effects of data augmentation on model robustness using TensorBoard.\n",
    "6. Conduct ablation studies, using TensorBoard to track and compare results.\n",
    "\n",
    "**Estimated Completion Time:** 240 minutes\n",
    "\n"
   ]
  },
  {
   "cell_type": "markdown",
   "metadata": {
    "id": "7yavDlrJ57yS"
   },
   "source": [
    "**Hints:**\n",
    "  1. Ensure that TensorBoard callbacks were integrated during the training process to log metrics, weights, and other important training information.\n",
    "  2. Use the `%load_ext tensorboard` and `%tensorboard --logdir logs/fit` commands to view TensorBoard within a Jupyter notebook or use the command line for a standalone script.\n",
    "  3. Focus on the histograms and distributions of model weights to understand the learning process, and use confusion matrices to identify specific areas where the model is underperforming.\n",
    "  4. Create a new model (`activation_model`) that outputs the activations of all layers using the original model's inputs and outputs.\n",
    "  5. Use this `activation_model` to predict a single image's activations, effectively visualizing what each layer is focusing on or detecting in the image.\n",
    "  6. Visualize these activations to gain insights into the model's decision-making process.\n",
    "  7. Utilize `model.get_config()` to extract the current model's configuration.\n",
    "  8. Modify this configuration to experiment with different architectures, such as changing the number of filters in convolutional layers, units in dense layers, or adding new layers.\n",
    "  9. Use `models.Sequential.from_config(new_config)` to rebuild the model with the new configuration and recompile it.\n",
    "  10. Experiment with different optimizers, learning rates, batch sizes, and other trainable parameters.\n",
    "  11. For each experiment, set up a separate TensorBoard log directory to compare performances across different configurations.\n",
    "  12. Incorporate dropout layers into the model to randomly ignore a subset of neurons during training, which helps prevent co-adaptations.\n",
    "  13. Use batch normalization to normalize the inputs of each layer, stabilizing and speeding up training.\n",
    "  14. Use TensorBoard to compare models trained with and without data augmentation, focusing on validation accuracy and loss.\n",
    "  15. Adjust data augmentation parameters based on these insights to find the optimal balance that improves model generalizability without introducing too much noise.\n",
    "  16. Remove or alter specific layers, activations, or other model components.\n",
    "  17. Use TensorBoard to track how these changes affect training dynamics and final model performance.\n",
    "  18. Compare different model configurations in TensorBoard by inspecting the learning curves and other relevant metrics.\n",
    "\n",
    "**Additional Insights:**\n",
    "- **TensorBoard Specifics:** When analyzing results in TensorBoard, pay particular attention to:\n",
    "  - **Learning Curves:** Look for signs of overfitting or underfitting, such as diverging training and validation loss curves. A good model will show both losses decreasing in tandem.\n",
    "  - **Confusion Matrix:** Identify which classes are most frequently misclassified. This can indicate if the model struggles with similar-looking digits or has insufficient examples for certain classes.\n",
    "  - **Weight Histograms:** Observe the distribution of weights and biases over time. Well-trained models should show weights moving towards a stable distribution, not exploding or vanishing.\n",
    "  - **Activation Distributions:** Review how activations change across layers. Ideally, activations should not be all zero or saturate, as this could indicate dead neurons or ineffective learning.\n",
    "- Visualizing these aspects can guide adjustments to the architecture, training process, or data handling, directly impacting model performance and efficiency.\n",
    "- **Iterative Improvement:** The tuning process is iterative and requires balancing multiple factors, including model complexity, training time, and available computational resources. Use insights from TensorBoard to make informed decisions on what to adjust in subsequent experiments."
   ]
  },
  {
   "cell_type": "markdown",
   "metadata": {
    "id": "zGHeCpjE6Jf-"
   },
   "source": [
    "### Task 5.1: Use Tensorboard"
   ]
  },
  {
   "cell_type": "code",
   "execution_count": 123,
   "metadata": {
    "tags": []
   },
   "outputs": [],
   "source": [
    "def objective(params):\n",
    "    \"\"\"\n",
    "    Purpose - Function to optimize model performance\n",
    "    Input - Params: Dict with variables and search space to vary \n",
    "            x_train: training data X\n",
    "            y_train: training data Y\n",
    "    \"\"\"\n",
    "    \n",
    "    if 'augmented' not in params.keys() or params['augmented'] is False:\n",
    "        augmented = False\n",
    "        data = np.load('../data/mnist_preprocessed.npz')   \n",
    "\n",
    "    else:\n",
    "        augmented = True\n",
    "        data = np.load('../data/mnist_data_augmented.npz')\n",
    "\n",
    "        \n",
    "    if 'epochs' not in params.keys():\n",
    "        epochs = 5\n",
    "    else:\n",
    "        epochs = params['epochs']\n",
    "        \n",
    "    \n",
    "    if 'augmented' not in params.keys() or params['augmented'] is False:\n",
    "        data = np.load('../data/mnist_preprocessed.npz')   \n",
    "    else:\n",
    "        data = np.load('../data/mnist_data_augmented.npz')\n",
    "\n",
    "    \n",
    "    X_train = data['X_train']\n",
    "    X_test = data['X_test']\n",
    "    X_val = data['X_val']\n",
    "    y_train = data['y_train']\n",
    "    y_test = data['y_test']\n",
    "    y_val = data['y_val']\n",
    "    \n",
    "    experiment_name = datetime.datetime.now().strftime(\"%Y%m%d-%H%M%S\")\n",
    "    if augmented:\n",
    "        experiment_name = experiment_name + \"_aug\"\n",
    "    \n",
    "    mlflow.set_experiment(experiment_name)\n",
    "    experiment = mlflow.get_experiment_by_name(experiment_name)\n",
    "        \n",
    "    with mlflow.start_run():\n",
    "        \n",
    "        # Build the model\n",
    "        model = build_model(params)\n",
    "        \n",
    "        mlflow.log_param(\"filter_1\", params['filter_1'])\n",
    "        mlflow.log_param(\"filter_2\", params['filter_2'])\n",
    "        mlflow.log_param(\"dropout_rate\", params['dropout_rate'])\n",
    "        \n",
    "        # Compile the model\n",
    "        model = compile_model(model)\n",
    "        \n",
    "        mlflow.tensorflow.autolog()\n",
    "        \n",
    "        # Tensorboard integration\n",
    "        log_dir = \"../logs/\" + experiment_name\n",
    "        tensorboard_callback = TensorBoard(log_dir=log_dir, histogram_freq=1, write_images=True)\n",
    "        checkpoint_callback = ModelCheckpoint(\"../models/model_\" + experiment_name + \".h5.keras\", save_best_only=True)\n",
    "        early_stopping_callback = EarlyStopping(patience=5, restore_best_weights=True)\n",
    "        reduce_lr_callback = ReduceLROnPlateau(patience=5, factor=0.1)\n",
    "\n",
    "        # Train the model \n",
    "        history = model.fit(X_train, y_train, batch_size = 256, epochs = epochs, verbose=0, validation_data=(X_val, y_val), callbacks=[tensorboard_callback, checkpoint_callback, early_stopping_callback, reduce_lr_callback])\n",
    "        model.save(\"../models/model_\" + experiment_name + \"_trained.h5.keras\")\n",
    "\n",
    "     #model.summary()\n",
    "    val_loss = history.history['val_loss'][-1]\n",
    "    return {'loss': val_loss, 'status': STATUS_OK}"
   ]
  },
  {
   "cell_type": "code",
   "execution_count": 121,
   "metadata": {
    "tags": []
   },
   "outputs": [
    {
     "name": "stdout",
     "output_type": "stream",
     "text": [
      "  0%|                                          | 0/1 [00:00<?, ?trial/s, best loss=?]"
     ]
    },
    {
     "name": "stderr",
     "output_type": "stream",
     "text": [
      "2024/04/12 16:59:25 INFO mlflow.tracking.fluent: Experiment with name '20240412-165925' does not exist. Creating a new experiment.\n",
      "\n"
     ]
    },
    {
     "data": {
      "text/html": [
       "<pre style=\"white-space:pre;overflow-x:auto;line-height:normal;font-family:Menlo,'DejaVu Sans Mono',consolas,'Courier New',monospace\"><span style=\"font-weight: bold\">Model: \"sequential_36\"</span>\n",
       "</pre>\n"
      ],
      "text/plain": [
       "\u001b[1mModel: \"sequential_36\"\u001b[0m\n"
      ]
     },
     "metadata": {},
     "output_type": "display_data"
    },
    {
     "data": {
      "text/html": [
       "<pre style=\"white-space:pre;overflow-x:auto;line-height:normal;font-family:Menlo,'DejaVu Sans Mono',consolas,'Courier New',monospace\">┏━━━━━━━━━━━━━━━━━━━━━━━━━━━━━━━━━┳━━━━━━━━━━━━━━━━━━━━━━━━┳━━━━━━━━━━━━━━━┓\n",
       "┃<span style=\"font-weight: bold\"> Layer (type)                    </span>┃<span style=\"font-weight: bold\"> Output Shape           </span>┃<span style=\"font-weight: bold\">       Param # </span>┃\n",
       "┡━━━━━━━━━━━━━━━━━━━━━━━━━━━━━━━━━╇━━━━━━━━━━━━━━━━━━━━━━━━╇━━━━━━━━━━━━━━━┩\n",
       "│ CL1 (<span style=\"color: #0087ff; text-decoration-color: #0087ff\">Conv2D</span>)                    │ (<span style=\"color: #00d7ff; text-decoration-color: #00d7ff\">None</span>, <span style=\"color: #00af00; text-decoration-color: #00af00\">26</span>, <span style=\"color: #00af00; text-decoration-color: #00af00\">26</span>, <span style=\"color: #00af00; text-decoration-color: #00af00\">144</span>)    │         <span style=\"color: #00af00; text-decoration-color: #00af00\">1,440</span> │\n",
       "├─────────────────────────────────┼────────────────────────┼───────────────┤\n",
       "│ MPL1 (<span style=\"color: #0087ff; text-decoration-color: #0087ff\">MaxPooling2D</span>)             │ (<span style=\"color: #00d7ff; text-decoration-color: #00d7ff\">None</span>, <span style=\"color: #00af00; text-decoration-color: #00af00\">13</span>, <span style=\"color: #00af00; text-decoration-color: #00af00\">13</span>, <span style=\"color: #00af00; text-decoration-color: #00af00\">144</span>)    │             <span style=\"color: #00af00; text-decoration-color: #00af00\">0</span> │\n",
       "├─────────────────────────────────┼────────────────────────┼───────────────┤\n",
       "│ CL2 (<span style=\"color: #0087ff; text-decoration-color: #0087ff\">Conv2D</span>)                    │ (<span style=\"color: #00d7ff; text-decoration-color: #00d7ff\">None</span>, <span style=\"color: #00af00; text-decoration-color: #00af00\">11</span>, <span style=\"color: #00af00; text-decoration-color: #00af00\">11</span>, <span style=\"color: #00af00; text-decoration-color: #00af00\">488</span>)    │       <span style=\"color: #00af00; text-decoration-color: #00af00\">632,936</span> │\n",
       "├─────────────────────────────────┼────────────────────────┼───────────────┤\n",
       "│ MPL2 (<span style=\"color: #0087ff; text-decoration-color: #0087ff\">MaxPooling2D</span>)             │ (<span style=\"color: #00d7ff; text-decoration-color: #00d7ff\">None</span>, <span style=\"color: #00af00; text-decoration-color: #00af00\">5</span>, <span style=\"color: #00af00; text-decoration-color: #00af00\">5</span>, <span style=\"color: #00af00; text-decoration-color: #00af00\">488</span>)      │             <span style=\"color: #00af00; text-decoration-color: #00af00\">0</span> │\n",
       "├─────────────────────────────────┼────────────────────────┼───────────────┤\n",
       "│ FL (<span style=\"color: #0087ff; text-decoration-color: #0087ff\">Flatten</span>)                    │ (<span style=\"color: #00d7ff; text-decoration-color: #00d7ff\">None</span>, <span style=\"color: #00af00; text-decoration-color: #00af00\">12200</span>)          │             <span style=\"color: #00af00; text-decoration-color: #00af00\">0</span> │\n",
       "├─────────────────────────────────┼────────────────────────┼───────────────┤\n",
       "│ DE1 (<span style=\"color: #0087ff; text-decoration-color: #0087ff\">Dense</span>)                     │ (<span style=\"color: #00d7ff; text-decoration-color: #00d7ff\">None</span>, <span style=\"color: #00af00; text-decoration-color: #00af00\">10</span>)             │       <span style=\"color: #00af00; text-decoration-color: #00af00\">122,010</span> │\n",
       "├─────────────────────────────────┼────────────────────────┼───────────────┤\n",
       "│ DP1 (<span style=\"color: #0087ff; text-decoration-color: #0087ff\">Dropout</span>)                   │ (<span style=\"color: #00d7ff; text-decoration-color: #00d7ff\">None</span>, <span style=\"color: #00af00; text-decoration-color: #00af00\">10</span>)             │             <span style=\"color: #00af00; text-decoration-color: #00af00\">0</span> │\n",
       "├─────────────────────────────────┼────────────────────────┼───────────────┤\n",
       "│ DE2 (<span style=\"color: #0087ff; text-decoration-color: #0087ff\">Dense</span>)                     │ (<span style=\"color: #00d7ff; text-decoration-color: #00d7ff\">None</span>, <span style=\"color: #00af00; text-decoration-color: #00af00\">10</span>)             │           <span style=\"color: #00af00; text-decoration-color: #00af00\">110</span> │\n",
       "└─────────────────────────────────┴────────────────────────┴───────────────┘\n",
       "</pre>\n"
      ],
      "text/plain": [
       "┏━━━━━━━━━━━━━━━━━━━━━━━━━━━━━━━━━┳━━━━━━━━━━━━━━━━━━━━━━━━┳━━━━━━━━━━━━━━━┓\n",
       "┃\u001b[1m \u001b[0m\u001b[1mLayer (type)                   \u001b[0m\u001b[1m \u001b[0m┃\u001b[1m \u001b[0m\u001b[1mOutput Shape          \u001b[0m\u001b[1m \u001b[0m┃\u001b[1m \u001b[0m\u001b[1m      Param #\u001b[0m\u001b[1m \u001b[0m┃\n",
       "┡━━━━━━━━━━━━━━━━━━━━━━━━━━━━━━━━━╇━━━━━━━━━━━━━━━━━━━━━━━━╇━━━━━━━━━━━━━━━┩\n",
       "│ CL1 (\u001b[38;5;33mConv2D\u001b[0m)                    │ (\u001b[38;5;45mNone\u001b[0m, \u001b[38;5;34m26\u001b[0m, \u001b[38;5;34m26\u001b[0m, \u001b[38;5;34m144\u001b[0m)    │         \u001b[38;5;34m1,440\u001b[0m │\n",
       "├─────────────────────────────────┼────────────────────────┼───────────────┤\n",
       "│ MPL1 (\u001b[38;5;33mMaxPooling2D\u001b[0m)             │ (\u001b[38;5;45mNone\u001b[0m, \u001b[38;5;34m13\u001b[0m, \u001b[38;5;34m13\u001b[0m, \u001b[38;5;34m144\u001b[0m)    │             \u001b[38;5;34m0\u001b[0m │\n",
       "├─────────────────────────────────┼────────────────────────┼───────────────┤\n",
       "│ CL2 (\u001b[38;5;33mConv2D\u001b[0m)                    │ (\u001b[38;5;45mNone\u001b[0m, \u001b[38;5;34m11\u001b[0m, \u001b[38;5;34m11\u001b[0m, \u001b[38;5;34m488\u001b[0m)    │       \u001b[38;5;34m632,936\u001b[0m │\n",
       "├─────────────────────────────────┼────────────────────────┼───────────────┤\n",
       "│ MPL2 (\u001b[38;5;33mMaxPooling2D\u001b[0m)             │ (\u001b[38;5;45mNone\u001b[0m, \u001b[38;5;34m5\u001b[0m, \u001b[38;5;34m5\u001b[0m, \u001b[38;5;34m488\u001b[0m)      │             \u001b[38;5;34m0\u001b[0m │\n",
       "├─────────────────────────────────┼────────────────────────┼───────────────┤\n",
       "│ FL (\u001b[38;5;33mFlatten\u001b[0m)                    │ (\u001b[38;5;45mNone\u001b[0m, \u001b[38;5;34m12200\u001b[0m)          │             \u001b[38;5;34m0\u001b[0m │\n",
       "├─────────────────────────────────┼────────────────────────┼───────────────┤\n",
       "│ DE1 (\u001b[38;5;33mDense\u001b[0m)                     │ (\u001b[38;5;45mNone\u001b[0m, \u001b[38;5;34m10\u001b[0m)             │       \u001b[38;5;34m122,010\u001b[0m │\n",
       "├─────────────────────────────────┼────────────────────────┼───────────────┤\n",
       "│ DP1 (\u001b[38;5;33mDropout\u001b[0m)                   │ (\u001b[38;5;45mNone\u001b[0m, \u001b[38;5;34m10\u001b[0m)             │             \u001b[38;5;34m0\u001b[0m │\n",
       "├─────────────────────────────────┼────────────────────────┼───────────────┤\n",
       "│ DE2 (\u001b[38;5;33mDense\u001b[0m)                     │ (\u001b[38;5;45mNone\u001b[0m, \u001b[38;5;34m10\u001b[0m)             │           \u001b[38;5;34m110\u001b[0m │\n",
       "└─────────────────────────────────┴────────────────────────┴───────────────┘\n"
      ]
     },
     "metadata": {},
     "output_type": "display_data"
    },
    {
     "data": {
      "text/html": [
       "<pre style=\"white-space:pre;overflow-x:auto;line-height:normal;font-family:Menlo,'DejaVu Sans Mono',consolas,'Courier New',monospace\"><span style=\"font-weight: bold\"> Total params: </span><span style=\"color: #00af00; text-decoration-color: #00af00\">756,496</span> (2.89 MB)\n",
       "</pre>\n"
      ],
      "text/plain": [
       "\u001b[1m Total params: \u001b[0m\u001b[38;5;34m756,496\u001b[0m (2.89 MB)\n"
      ]
     },
     "metadata": {},
     "output_type": "display_data"
    },
    {
     "data": {
      "text/html": [
       "<pre style=\"white-space:pre;overflow-x:auto;line-height:normal;font-family:Menlo,'DejaVu Sans Mono',consolas,'Courier New',monospace\"><span style=\"font-weight: bold\"> Trainable params: </span><span style=\"color: #00af00; text-decoration-color: #00af00\">756,496</span> (2.89 MB)\n",
       "</pre>\n"
      ],
      "text/plain": [
       "\u001b[1m Trainable params: \u001b[0m\u001b[38;5;34m756,496\u001b[0m (2.89 MB)\n"
      ]
     },
     "metadata": {},
     "output_type": "display_data"
    },
    {
     "data": {
      "text/html": [
       "<pre style=\"white-space:pre;overflow-x:auto;line-height:normal;font-family:Menlo,'DejaVu Sans Mono',consolas,'Courier New',monospace\"><span style=\"font-weight: bold\"> Non-trainable params: </span><span style=\"color: #00af00; text-decoration-color: #00af00\">0</span> (0.00 B)\n",
       "</pre>\n"
      ],
      "text/plain": [
       "\u001b[1m Non-trainable params: \u001b[0m\u001b[38;5;34m0\u001b[0m (0.00 B)\n"
      ]
     },
     "metadata": {},
     "output_type": "display_data"
    },
    {
     "name": "stdout",
     "output_type": "stream",
     "text": [
      "[<KerasTensor shape=(None, 28, 28, 1), dtype=float32, sparse=None, name=keras_tensor_324>]\n",
      "[<KerasTensor shape=(None, 10), dtype=float32, sparse=False, name=keras_tensor_332>] \n",
      "  0%|                                          | 0/1 [00:00<?, ?trial/s, best loss=?]"
     ]
    },
    {
     "name": "stderr",
     "output_type": "stream",
     "text": [
      "2024/04/12 16:59:25 WARNING mlflow.utils.autologging_utils: You are using an unsupported version of tensorflow. If you encounter errors during autologging, try upgrading / downgrading tensorflow to a supported version, or try upgrading MLflow.\n",
      "\n"
     ]
    },
    {
     "data": {
      "text/html": [
       "<pre style=\"white-space:pre;overflow-x:auto;line-height:normal;font-family:Menlo,'DejaVu Sans Mono',consolas,'Courier New',monospace\"></pre>\n"
      ],
      "text/plain": []
     },
     "metadata": {},
     "output_type": "display_data"
    },
    {
     "name": "stdout",
     "output_type": "stream",
     "text": [
      "\u001b[1m1/1\u001b[0m \u001b[32m━━━━━━━━━━━━━━━━━━━━\u001b[0m\u001b[37m\u001b[0m \u001b[1m0s\u001b[0m 101ms/step             \n",
      "\u001b[1m1/1\u001b[0m \u001b[32m━━━━━━━━━━━━━━━━━━━━\u001b[0m\u001b[37m\u001b[0m \u001b[1m0s\u001b[0m 103ms/step            \n",
      "\n",
      "100%|█████████████████| 1/1 [01:31<00:00, 91.95s/trial, best loss: 0.111339271068573]\n"
     ]
    }
   ],
   "source": [
    "search_space = {\n",
    "    'dropout_rate': hp.uniform('dropout_rate', 0.2, 0.3),\n",
    "    'filter_1': hp.quniform('filter_1',16,512, 8),\n",
    "    'filter_2': hp.quniform('filter_2',16, 512, 8)\n",
    "}\n",
    "\n",
    "trials = Trials()\n",
    "\n",
    "best = fmin(fn=objective,\n",
    "            space=search_space,\n",
    "            algo=tpe.suggest,\n",
    "            max_evals=1,\n",
    "            trials=trials)"
   ]
  },
  {
   "cell_type": "markdown",
   "metadata": {},
   "source": [
    "### Task 5.5: Compare original vs Augmented data"
   ]
  },
  {
   "cell_type": "code",
   "execution_count": 124,
   "metadata": {
    "tags": []
   },
   "outputs": [
    {
     "name": "stdout",
     "output_type": "stream",
     "text": [
      "  0%|                                          | 0/1 [00:00<?, ?trial/s, best loss=?]"
     ]
    },
    {
     "name": "stderr",
     "output_type": "stream",
     "text": [
      "2024/04/12 17:08:22 INFO mlflow.tracking.fluent: Experiment with name '20240412-170822_aug' does not exist. Creating a new experiment.\n",
      "\n"
     ]
    },
    {
     "data": {
      "text/html": [
       "<pre style=\"white-space:pre;overflow-x:auto;line-height:normal;font-family:Menlo,'DejaVu Sans Mono',consolas,'Courier New',monospace\"><span style=\"font-weight: bold\">Model: \"sequential_39\"</span>\n",
       "</pre>\n"
      ],
      "text/plain": [
       "\u001b[1mModel: \"sequential_39\"\u001b[0m\n"
      ]
     },
     "metadata": {},
     "output_type": "display_data"
    },
    {
     "data": {
      "text/html": [
       "<pre style=\"white-space:pre;overflow-x:auto;line-height:normal;font-family:Menlo,'DejaVu Sans Mono',consolas,'Courier New',monospace\">┏━━━━━━━━━━━━━━━━━━━━━━━━━━━━━━━━━┳━━━━━━━━━━━━━━━━━━━━━━━━┳━━━━━━━━━━━━━━━┓\n",
       "┃<span style=\"font-weight: bold\"> Layer (type)                    </span>┃<span style=\"font-weight: bold\"> Output Shape           </span>┃<span style=\"font-weight: bold\">       Param # </span>┃\n",
       "┡━━━━━━━━━━━━━━━━━━━━━━━━━━━━━━━━━╇━━━━━━━━━━━━━━━━━━━━━━━━╇━━━━━━━━━━━━━━━┩\n",
       "│ CL1 (<span style=\"color: #0087ff; text-decoration-color: #0087ff\">Conv2D</span>)                    │ (<span style=\"color: #00d7ff; text-decoration-color: #00d7ff\">None</span>, <span style=\"color: #00af00; text-decoration-color: #00af00\">26</span>, <span style=\"color: #00af00; text-decoration-color: #00af00\">26</span>, <span style=\"color: #00af00; text-decoration-color: #00af00\">200</span>)    │         <span style=\"color: #00af00; text-decoration-color: #00af00\">2,000</span> │\n",
       "├─────────────────────────────────┼────────────────────────┼───────────────┤\n",
       "│ MPL1 (<span style=\"color: #0087ff; text-decoration-color: #0087ff\">MaxPooling2D</span>)             │ (<span style=\"color: #00d7ff; text-decoration-color: #00d7ff\">None</span>, <span style=\"color: #00af00; text-decoration-color: #00af00\">13</span>, <span style=\"color: #00af00; text-decoration-color: #00af00\">13</span>, <span style=\"color: #00af00; text-decoration-color: #00af00\">200</span>)    │             <span style=\"color: #00af00; text-decoration-color: #00af00\">0</span> │\n",
       "├─────────────────────────────────┼────────────────────────┼───────────────┤\n",
       "│ CL2 (<span style=\"color: #0087ff; text-decoration-color: #0087ff\">Conv2D</span>)                    │ (<span style=\"color: #00d7ff; text-decoration-color: #00d7ff\">None</span>, <span style=\"color: #00af00; text-decoration-color: #00af00\">11</span>, <span style=\"color: #00af00; text-decoration-color: #00af00\">11</span>, <span style=\"color: #00af00; text-decoration-color: #00af00\">200</span>)    │       <span style=\"color: #00af00; text-decoration-color: #00af00\">360,200</span> │\n",
       "├─────────────────────────────────┼────────────────────────┼───────────────┤\n",
       "│ MPL2 (<span style=\"color: #0087ff; text-decoration-color: #0087ff\">MaxPooling2D</span>)             │ (<span style=\"color: #00d7ff; text-decoration-color: #00d7ff\">None</span>, <span style=\"color: #00af00; text-decoration-color: #00af00\">5</span>, <span style=\"color: #00af00; text-decoration-color: #00af00\">5</span>, <span style=\"color: #00af00; text-decoration-color: #00af00\">200</span>)      │             <span style=\"color: #00af00; text-decoration-color: #00af00\">0</span> │\n",
       "├─────────────────────────────────┼────────────────────────┼───────────────┤\n",
       "│ FL (<span style=\"color: #0087ff; text-decoration-color: #0087ff\">Flatten</span>)                    │ (<span style=\"color: #00d7ff; text-decoration-color: #00d7ff\">None</span>, <span style=\"color: #00af00; text-decoration-color: #00af00\">5000</span>)           │             <span style=\"color: #00af00; text-decoration-color: #00af00\">0</span> │\n",
       "├─────────────────────────────────┼────────────────────────┼───────────────┤\n",
       "│ DE1 (<span style=\"color: #0087ff; text-decoration-color: #0087ff\">Dense</span>)                     │ (<span style=\"color: #00d7ff; text-decoration-color: #00d7ff\">None</span>, <span style=\"color: #00af00; text-decoration-color: #00af00\">10</span>)             │        <span style=\"color: #00af00; text-decoration-color: #00af00\">50,010</span> │\n",
       "├─────────────────────────────────┼────────────────────────┼───────────────┤\n",
       "│ DP1 (<span style=\"color: #0087ff; text-decoration-color: #0087ff\">Dropout</span>)                   │ (<span style=\"color: #00d7ff; text-decoration-color: #00d7ff\">None</span>, <span style=\"color: #00af00; text-decoration-color: #00af00\">10</span>)             │             <span style=\"color: #00af00; text-decoration-color: #00af00\">0</span> │\n",
       "├─────────────────────────────────┼────────────────────────┼───────────────┤\n",
       "│ DE2 (<span style=\"color: #0087ff; text-decoration-color: #0087ff\">Dense</span>)                     │ (<span style=\"color: #00d7ff; text-decoration-color: #00d7ff\">None</span>, <span style=\"color: #00af00; text-decoration-color: #00af00\">10</span>)             │           <span style=\"color: #00af00; text-decoration-color: #00af00\">110</span> │\n",
       "└─────────────────────────────────┴────────────────────────┴───────────────┘\n",
       "</pre>\n"
      ],
      "text/plain": [
       "┏━━━━━━━━━━━━━━━━━━━━━━━━━━━━━━━━━┳━━━━━━━━━━━━━━━━━━━━━━━━┳━━━━━━━━━━━━━━━┓\n",
       "┃\u001b[1m \u001b[0m\u001b[1mLayer (type)                   \u001b[0m\u001b[1m \u001b[0m┃\u001b[1m \u001b[0m\u001b[1mOutput Shape          \u001b[0m\u001b[1m \u001b[0m┃\u001b[1m \u001b[0m\u001b[1m      Param #\u001b[0m\u001b[1m \u001b[0m┃\n",
       "┡━━━━━━━━━━━━━━━━━━━━━━━━━━━━━━━━━╇━━━━━━━━━━━━━━━━━━━━━━━━╇━━━━━━━━━━━━━━━┩\n",
       "│ CL1 (\u001b[38;5;33mConv2D\u001b[0m)                    │ (\u001b[38;5;45mNone\u001b[0m, \u001b[38;5;34m26\u001b[0m, \u001b[38;5;34m26\u001b[0m, \u001b[38;5;34m200\u001b[0m)    │         \u001b[38;5;34m2,000\u001b[0m │\n",
       "├─────────────────────────────────┼────────────────────────┼───────────────┤\n",
       "│ MPL1 (\u001b[38;5;33mMaxPooling2D\u001b[0m)             │ (\u001b[38;5;45mNone\u001b[0m, \u001b[38;5;34m13\u001b[0m, \u001b[38;5;34m13\u001b[0m, \u001b[38;5;34m200\u001b[0m)    │             \u001b[38;5;34m0\u001b[0m │\n",
       "├─────────────────────────────────┼────────────────────────┼───────────────┤\n",
       "│ CL2 (\u001b[38;5;33mConv2D\u001b[0m)                    │ (\u001b[38;5;45mNone\u001b[0m, \u001b[38;5;34m11\u001b[0m, \u001b[38;5;34m11\u001b[0m, \u001b[38;5;34m200\u001b[0m)    │       \u001b[38;5;34m360,200\u001b[0m │\n",
       "├─────────────────────────────────┼────────────────────────┼───────────────┤\n",
       "│ MPL2 (\u001b[38;5;33mMaxPooling2D\u001b[0m)             │ (\u001b[38;5;45mNone\u001b[0m, \u001b[38;5;34m5\u001b[0m, \u001b[38;5;34m5\u001b[0m, \u001b[38;5;34m200\u001b[0m)      │             \u001b[38;5;34m0\u001b[0m │\n",
       "├─────────────────────────────────┼────────────────────────┼───────────────┤\n",
       "│ FL (\u001b[38;5;33mFlatten\u001b[0m)                    │ (\u001b[38;5;45mNone\u001b[0m, \u001b[38;5;34m5000\u001b[0m)           │             \u001b[38;5;34m0\u001b[0m │\n",
       "├─────────────────────────────────┼────────────────────────┼───────────────┤\n",
       "│ DE1 (\u001b[38;5;33mDense\u001b[0m)                     │ (\u001b[38;5;45mNone\u001b[0m, \u001b[38;5;34m10\u001b[0m)             │        \u001b[38;5;34m50,010\u001b[0m │\n",
       "├─────────────────────────────────┼────────────────────────┼───────────────┤\n",
       "│ DP1 (\u001b[38;5;33mDropout\u001b[0m)                   │ (\u001b[38;5;45mNone\u001b[0m, \u001b[38;5;34m10\u001b[0m)             │             \u001b[38;5;34m0\u001b[0m │\n",
       "├─────────────────────────────────┼────────────────────────┼───────────────┤\n",
       "│ DE2 (\u001b[38;5;33mDense\u001b[0m)                     │ (\u001b[38;5;45mNone\u001b[0m, \u001b[38;5;34m10\u001b[0m)             │           \u001b[38;5;34m110\u001b[0m │\n",
       "└─────────────────────────────────┴────────────────────────┴───────────────┘\n"
      ]
     },
     "metadata": {},
     "output_type": "display_data"
    },
    {
     "data": {
      "text/html": [
       "<pre style=\"white-space:pre;overflow-x:auto;line-height:normal;font-family:Menlo,'DejaVu Sans Mono',consolas,'Courier New',monospace\"><span style=\"font-weight: bold\"> Total params: </span><span style=\"color: #00af00; text-decoration-color: #00af00\">412,320</span> (1.57 MB)\n",
       "</pre>\n"
      ],
      "text/plain": [
       "\u001b[1m Total params: \u001b[0m\u001b[38;5;34m412,320\u001b[0m (1.57 MB)\n"
      ]
     },
     "metadata": {},
     "output_type": "display_data"
    },
    {
     "data": {
      "text/html": [
       "<pre style=\"white-space:pre;overflow-x:auto;line-height:normal;font-family:Menlo,'DejaVu Sans Mono',consolas,'Courier New',monospace\"><span style=\"font-weight: bold\"> Trainable params: </span><span style=\"color: #00af00; text-decoration-color: #00af00\">412,320</span> (1.57 MB)\n",
       "</pre>\n"
      ],
      "text/plain": [
       "\u001b[1m Trainable params: \u001b[0m\u001b[38;5;34m412,320\u001b[0m (1.57 MB)\n"
      ]
     },
     "metadata": {},
     "output_type": "display_data"
    },
    {
     "data": {
      "text/html": [
       "<pre style=\"white-space:pre;overflow-x:auto;line-height:normal;font-family:Menlo,'DejaVu Sans Mono',consolas,'Courier New',monospace\"><span style=\"font-weight: bold\"> Non-trainable params: </span><span style=\"color: #00af00; text-decoration-color: #00af00\">0</span> (0.00 B)\n",
       "</pre>\n"
      ],
      "text/plain": [
       "\u001b[1m Non-trainable params: \u001b[0m\u001b[38;5;34m0\u001b[0m (0.00 B)\n"
      ]
     },
     "metadata": {},
     "output_type": "display_data"
    },
    {
     "name": "stdout",
     "output_type": "stream",
     "text": [
      "[<KerasTensor shape=(None, 28, 28, 1), dtype=float32, sparse=None, name=keras_tensor_351>]\n",
      "[<KerasTensor shape=(None, 10), dtype=float32, sparse=False, name=keras_tensor_359>] \n",
      "  0%|                                          | 0/1 [00:00<?, ?trial/s, best loss=?]"
     ]
    },
    {
     "name": "stderr",
     "output_type": "stream",
     "text": [
      "2024/04/12 17:08:22 WARNING mlflow.utils.autologging_utils: You are using an unsupported version of tensorflow. If you encounter errors during autologging, try upgrading / downgrading tensorflow to a supported version, or try upgrading MLflow.\n",
      "\n"
     ]
    },
    {
     "data": {
      "text/html": [
       "<pre style=\"white-space:pre;overflow-x:auto;line-height:normal;font-family:Menlo,'DejaVu Sans Mono',consolas,'Courier New',monospace\"></pre>\n"
      ],
      "text/plain": []
     },
     "metadata": {},
     "output_type": "display_data"
    },
    {
     "name": "stdout",
     "output_type": "stream",
     "text": [
      "\u001b[1m1/1\u001b[0m \u001b[32m━━━━━━━━━━━━━━━━━━━━\u001b[0m\u001b[37m\u001b[0m \u001b[1m0s\u001b[0m 87ms/step              \n",
      "\u001b[1m1/1\u001b[0m \u001b[32m━━━━━━━━━━━━━━━━━━━━\u001b[0m\u001b[37m\u001b[0m \u001b[1m0s\u001b[0m 89ms/step              \n",
      "\n",
      "100%|██████████████| 1/1 [02:02<00:00, 122.10s/trial, best loss: 0.35252994298934937]\n",
      "  0%|                                          | 0/1 [00:00<?, ?trial/s, best loss=?]"
     ]
    },
    {
     "name": "stderr",
     "output_type": "stream",
     "text": [
      "2024/04/12 17:10:25 INFO mlflow.tracking.fluent: Experiment with name '20240412-171025' does not exist. Creating a new experiment.\n",
      "\n"
     ]
    },
    {
     "data": {
      "text/html": [
       "<pre style=\"white-space:pre;overflow-x:auto;line-height:normal;font-family:Menlo,'DejaVu Sans Mono',consolas,'Courier New',monospace\"><span style=\"font-weight: bold\">Model: \"sequential_40\"</span>\n",
       "</pre>\n"
      ],
      "text/plain": [
       "\u001b[1mModel: \"sequential_40\"\u001b[0m\n"
      ]
     },
     "metadata": {},
     "output_type": "display_data"
    },
    {
     "data": {
      "text/html": [
       "<pre style=\"white-space:pre;overflow-x:auto;line-height:normal;font-family:Menlo,'DejaVu Sans Mono',consolas,'Courier New',monospace\">┏━━━━━━━━━━━━━━━━━━━━━━━━━━━━━━━━━┳━━━━━━━━━━━━━━━━━━━━━━━━┳━━━━━━━━━━━━━━━┓\n",
       "┃<span style=\"font-weight: bold\"> Layer (type)                    </span>┃<span style=\"font-weight: bold\"> Output Shape           </span>┃<span style=\"font-weight: bold\">       Param # </span>┃\n",
       "┡━━━━━━━━━━━━━━━━━━━━━━━━━━━━━━━━━╇━━━━━━━━━━━━━━━━━━━━━━━━╇━━━━━━━━━━━━━━━┩\n",
       "│ CL1 (<span style=\"color: #0087ff; text-decoration-color: #0087ff\">Conv2D</span>)                    │ (<span style=\"color: #00d7ff; text-decoration-color: #00d7ff\">None</span>, <span style=\"color: #00af00; text-decoration-color: #00af00\">26</span>, <span style=\"color: #00af00; text-decoration-color: #00af00\">26</span>, <span style=\"color: #00af00; text-decoration-color: #00af00\">200</span>)    │         <span style=\"color: #00af00; text-decoration-color: #00af00\">2,000</span> │\n",
       "├─────────────────────────────────┼────────────────────────┼───────────────┤\n",
       "│ MPL1 (<span style=\"color: #0087ff; text-decoration-color: #0087ff\">MaxPooling2D</span>)             │ (<span style=\"color: #00d7ff; text-decoration-color: #00d7ff\">None</span>, <span style=\"color: #00af00; text-decoration-color: #00af00\">13</span>, <span style=\"color: #00af00; text-decoration-color: #00af00\">13</span>, <span style=\"color: #00af00; text-decoration-color: #00af00\">200</span>)    │             <span style=\"color: #00af00; text-decoration-color: #00af00\">0</span> │\n",
       "├─────────────────────────────────┼────────────────────────┼───────────────┤\n",
       "│ CL2 (<span style=\"color: #0087ff; text-decoration-color: #0087ff\">Conv2D</span>)                    │ (<span style=\"color: #00d7ff; text-decoration-color: #00d7ff\">None</span>, <span style=\"color: #00af00; text-decoration-color: #00af00\">11</span>, <span style=\"color: #00af00; text-decoration-color: #00af00\">11</span>, <span style=\"color: #00af00; text-decoration-color: #00af00\">200</span>)    │       <span style=\"color: #00af00; text-decoration-color: #00af00\">360,200</span> │\n",
       "├─────────────────────────────────┼────────────────────────┼───────────────┤\n",
       "│ MPL2 (<span style=\"color: #0087ff; text-decoration-color: #0087ff\">MaxPooling2D</span>)             │ (<span style=\"color: #00d7ff; text-decoration-color: #00d7ff\">None</span>, <span style=\"color: #00af00; text-decoration-color: #00af00\">5</span>, <span style=\"color: #00af00; text-decoration-color: #00af00\">5</span>, <span style=\"color: #00af00; text-decoration-color: #00af00\">200</span>)      │             <span style=\"color: #00af00; text-decoration-color: #00af00\">0</span> │\n",
       "├─────────────────────────────────┼────────────────────────┼───────────────┤\n",
       "│ FL (<span style=\"color: #0087ff; text-decoration-color: #0087ff\">Flatten</span>)                    │ (<span style=\"color: #00d7ff; text-decoration-color: #00d7ff\">None</span>, <span style=\"color: #00af00; text-decoration-color: #00af00\">5000</span>)           │             <span style=\"color: #00af00; text-decoration-color: #00af00\">0</span> │\n",
       "├─────────────────────────────────┼────────────────────────┼───────────────┤\n",
       "│ DE1 (<span style=\"color: #0087ff; text-decoration-color: #0087ff\">Dense</span>)                     │ (<span style=\"color: #00d7ff; text-decoration-color: #00d7ff\">None</span>, <span style=\"color: #00af00; text-decoration-color: #00af00\">10</span>)             │        <span style=\"color: #00af00; text-decoration-color: #00af00\">50,010</span> │\n",
       "├─────────────────────────────────┼────────────────────────┼───────────────┤\n",
       "│ DP1 (<span style=\"color: #0087ff; text-decoration-color: #0087ff\">Dropout</span>)                   │ (<span style=\"color: #00d7ff; text-decoration-color: #00d7ff\">None</span>, <span style=\"color: #00af00; text-decoration-color: #00af00\">10</span>)             │             <span style=\"color: #00af00; text-decoration-color: #00af00\">0</span> │\n",
       "├─────────────────────────────────┼────────────────────────┼───────────────┤\n",
       "│ DE2 (<span style=\"color: #0087ff; text-decoration-color: #0087ff\">Dense</span>)                     │ (<span style=\"color: #00d7ff; text-decoration-color: #00d7ff\">None</span>, <span style=\"color: #00af00; text-decoration-color: #00af00\">10</span>)             │           <span style=\"color: #00af00; text-decoration-color: #00af00\">110</span> │\n",
       "└─────────────────────────────────┴────────────────────────┴───────────────┘\n",
       "</pre>\n"
      ],
      "text/plain": [
       "┏━━━━━━━━━━━━━━━━━━━━━━━━━━━━━━━━━┳━━━━━━━━━━━━━━━━━━━━━━━━┳━━━━━━━━━━━━━━━┓\n",
       "┃\u001b[1m \u001b[0m\u001b[1mLayer (type)                   \u001b[0m\u001b[1m \u001b[0m┃\u001b[1m \u001b[0m\u001b[1mOutput Shape          \u001b[0m\u001b[1m \u001b[0m┃\u001b[1m \u001b[0m\u001b[1m      Param #\u001b[0m\u001b[1m \u001b[0m┃\n",
       "┡━━━━━━━━━━━━━━━━━━━━━━━━━━━━━━━━━╇━━━━━━━━━━━━━━━━━━━━━━━━╇━━━━━━━━━━━━━━━┩\n",
       "│ CL1 (\u001b[38;5;33mConv2D\u001b[0m)                    │ (\u001b[38;5;45mNone\u001b[0m, \u001b[38;5;34m26\u001b[0m, \u001b[38;5;34m26\u001b[0m, \u001b[38;5;34m200\u001b[0m)    │         \u001b[38;5;34m2,000\u001b[0m │\n",
       "├─────────────────────────────────┼────────────────────────┼───────────────┤\n",
       "│ MPL1 (\u001b[38;5;33mMaxPooling2D\u001b[0m)             │ (\u001b[38;5;45mNone\u001b[0m, \u001b[38;5;34m13\u001b[0m, \u001b[38;5;34m13\u001b[0m, \u001b[38;5;34m200\u001b[0m)    │             \u001b[38;5;34m0\u001b[0m │\n",
       "├─────────────────────────────────┼────────────────────────┼───────────────┤\n",
       "│ CL2 (\u001b[38;5;33mConv2D\u001b[0m)                    │ (\u001b[38;5;45mNone\u001b[0m, \u001b[38;5;34m11\u001b[0m, \u001b[38;5;34m11\u001b[0m, \u001b[38;5;34m200\u001b[0m)    │       \u001b[38;5;34m360,200\u001b[0m │\n",
       "├─────────────────────────────────┼────────────────────────┼───────────────┤\n",
       "│ MPL2 (\u001b[38;5;33mMaxPooling2D\u001b[0m)             │ (\u001b[38;5;45mNone\u001b[0m, \u001b[38;5;34m5\u001b[0m, \u001b[38;5;34m5\u001b[0m, \u001b[38;5;34m200\u001b[0m)      │             \u001b[38;5;34m0\u001b[0m │\n",
       "├─────────────────────────────────┼────────────────────────┼───────────────┤\n",
       "│ FL (\u001b[38;5;33mFlatten\u001b[0m)                    │ (\u001b[38;5;45mNone\u001b[0m, \u001b[38;5;34m5000\u001b[0m)           │             \u001b[38;5;34m0\u001b[0m │\n",
       "├─────────────────────────────────┼────────────────────────┼───────────────┤\n",
       "│ DE1 (\u001b[38;5;33mDense\u001b[0m)                     │ (\u001b[38;5;45mNone\u001b[0m, \u001b[38;5;34m10\u001b[0m)             │        \u001b[38;5;34m50,010\u001b[0m │\n",
       "├─────────────────────────────────┼────────────────────────┼───────────────┤\n",
       "│ DP1 (\u001b[38;5;33mDropout\u001b[0m)                   │ (\u001b[38;5;45mNone\u001b[0m, \u001b[38;5;34m10\u001b[0m)             │             \u001b[38;5;34m0\u001b[0m │\n",
       "├─────────────────────────────────┼────────────────────────┼───────────────┤\n",
       "│ DE2 (\u001b[38;5;33mDense\u001b[0m)                     │ (\u001b[38;5;45mNone\u001b[0m, \u001b[38;5;34m10\u001b[0m)             │           \u001b[38;5;34m110\u001b[0m │\n",
       "└─────────────────────────────────┴────────────────────────┴───────────────┘\n"
      ]
     },
     "metadata": {},
     "output_type": "display_data"
    },
    {
     "data": {
      "text/html": [
       "<pre style=\"white-space:pre;overflow-x:auto;line-height:normal;font-family:Menlo,'DejaVu Sans Mono',consolas,'Courier New',monospace\"><span style=\"font-weight: bold\"> Total params: </span><span style=\"color: #00af00; text-decoration-color: #00af00\">412,320</span> (1.57 MB)\n",
       "</pre>\n"
      ],
      "text/plain": [
       "\u001b[1m Total params: \u001b[0m\u001b[38;5;34m412,320\u001b[0m (1.57 MB)\n"
      ]
     },
     "metadata": {},
     "output_type": "display_data"
    },
    {
     "data": {
      "text/html": [
       "<pre style=\"white-space:pre;overflow-x:auto;line-height:normal;font-family:Menlo,'DejaVu Sans Mono',consolas,'Courier New',monospace\"><span style=\"font-weight: bold\"> Trainable params: </span><span style=\"color: #00af00; text-decoration-color: #00af00\">412,320</span> (1.57 MB)\n",
       "</pre>\n"
      ],
      "text/plain": [
       "\u001b[1m Trainable params: \u001b[0m\u001b[38;5;34m412,320\u001b[0m (1.57 MB)\n"
      ]
     },
     "metadata": {},
     "output_type": "display_data"
    },
    {
     "data": {
      "text/html": [
       "<pre style=\"white-space:pre;overflow-x:auto;line-height:normal;font-family:Menlo,'DejaVu Sans Mono',consolas,'Courier New',monospace\"><span style=\"font-weight: bold\"> Non-trainable params: </span><span style=\"color: #00af00; text-decoration-color: #00af00\">0</span> (0.00 B)\n",
       "</pre>\n"
      ],
      "text/plain": [
       "\u001b[1m Non-trainable params: \u001b[0m\u001b[38;5;34m0\u001b[0m (0.00 B)\n"
      ]
     },
     "metadata": {},
     "output_type": "display_data"
    },
    {
     "name": "stdout",
     "output_type": "stream",
     "text": [
      "[<KerasTensor shape=(None, 28, 28, 1), dtype=float32, sparse=None, name=keras_tensor_360>]\n",
      "[<KerasTensor shape=(None, 10), dtype=float32, sparse=False, name=keras_tensor_368>] \n",
      "  0%|                                          | 0/1 [00:00<?, ?trial/s, best loss=?]"
     ]
    },
    {
     "name": "stderr",
     "output_type": "stream",
     "text": [
      "2024/04/12 17:10:25 WARNING mlflow.utils.autologging_utils: You are using an unsupported version of tensorflow. If you encounter errors during autologging, try upgrading / downgrading tensorflow to a supported version, or try upgrading MLflow.\n",
      "\n"
     ]
    },
    {
     "data": {
      "text/html": [
       "<pre style=\"white-space:pre;overflow-x:auto;line-height:normal;font-family:Menlo,'DejaVu Sans Mono',consolas,'Courier New',monospace\"></pre>\n"
      ],
      "text/plain": []
     },
     "metadata": {},
     "output_type": "display_data"
    },
    {
     "name": "stdout",
     "output_type": "stream",
     "text": [
      "\u001b[1m1/1\u001b[0m \u001b[32m━━━━━━━━━━━━━━━━━━━━\u001b[0m\u001b[37m\u001b[0m \u001b[1m0s\u001b[0m 66ms/step              \n",
      "\u001b[1m1/1\u001b[0m \u001b[32m━━━━━━━━━━━━━━━━━━━━\u001b[0m\u001b[37m\u001b[0m \u001b[1m0s\u001b[0m 70ms/step              \n",
      "\n",
      "100%|██████████████| 1/1 [02:05<00:00, 125.09s/trial, best loss: 0.06449055671691895]\n"
     ]
    }
   ],
   "source": [
    "params = {\n",
    "    'dropout_rate': .2,\n",
    "    'filter_1': 200,\n",
    "    'filter_2': 200,\n",
    "    'augmented': True,\n",
    "    'epochs':10\n",
    "}\n",
    "\n",
    "trials = Trials()\n",
    "\n",
    "best = fmin(fn=objective,\n",
    "            space=params,\n",
    "            algo=tpe.suggest,\n",
    "            max_evals=1,\n",
    "            trials=trials)\n",
    "\n",
    "params = {\n",
    "    'dropout_rate': .2,\n",
    "    'filter_1': 200,\n",
    "    'filter_2': 200,\n",
    "    'augmented': False,\n",
    "    'epochs':10\n",
    "}\n",
    "\n",
    "trials = Trials()\n",
    "\n",
    "best = fmin(fn=objective,\n",
    "            space=params,\n",
    "            algo=tpe.suggest,\n",
    "            max_evals=1,\n",
    "            trials=trials)"
   ]
  },
  {
   "cell_type": "code",
   "execution_count": null,
   "metadata": {},
   "outputs": [],
   "source": []
  },
  {
   "cell_type": "code",
   "execution_count": null,
   "metadata": {},
   "outputs": [],
   "source": []
  },
  {
   "cell_type": "code",
   "execution_count": null,
   "metadata": {},
   "outputs": [],
   "source": []
  },
  {
   "cell_type": "code",
   "execution_count": null,
   "metadata": {},
   "outputs": [],
   "source": []
  },
  {
   "cell_type": "code",
   "execution_count": null,
   "metadata": {},
   "outputs": [],
   "source": []
  },
  {
   "cell_type": "markdown",
   "metadata": {},
   "source": [
    "### Observations"
   ]
  },
  {
   "cell_type": "markdown",
   "metadata": {
    "tags": []
   },
   "source": [
    "1. Accuracy significantly improves with a lower dropout rate, closer to .2. \n",
    "2. We have not observed an improved accuracy with more or less neurons. "
   ]
  },
  {
   "cell_type": "markdown",
   "metadata": {
    "id": "9PcEAXv8T6qN"
   },
   "source": [
    "---\n",
    "---\n"
   ]
  },
  {
   "cell_type": "markdown",
   "metadata": {
    "id": "jJUFy96o2zUS"
   },
   "source": [
    "\n",
    "## **Task 6: Model Deployment and Documentation**  \n",
    "\n",
    "**Objective:** Prepare the model for deployment using MLflow and document the project for reproducibility and sharing. Create and test an API endpoint for the model using Postman.\n",
    "\n",
    "**Activities:**\n",
    "\n",
    "1. Convert the trained model into a MLflow-compatible format and log the model in MLflow.\n",
    "2. Set up MLflow tracking server to manage and store model artifacts.\n",
    "3. Develop a Flask or FastAPI application that loads the MLflow model and creates an API endpoint for making predictions.\n",
    "4. Test the API endpoint locally to ensure it is working as expected.\n",
    "5. Use MLflow to package the API application into a Docker container for easy deployment and scaling.\n",
    "6. Write comprehensive documentation, detailing the steps for model conversion, MLflow integration, API usage, and deployment process.\n",
    "7. Use Postman to create and send requests to the deployed API endpoint, validating the model's responses and functionality.\n",
    "8. Create a GitHub repository to host the project code, MLflow tracking information, documentation, and deployment instructions.\n",
    "\n",
    "**Estimated Completion Time:** 240 minutes\n",
    "\n",
    "---\n",
    "---\n"
   ]
  },
  {
   "cell_type": "code",
   "execution_count": null,
   "metadata": {
    "id": "Q1enQ8rmJRwx"
   },
   "outputs": [],
   "source": [
    "from fastapi import FastAPI\n",
    "import mlflow.pyfunc\n",
    "import uvicorn\n",
    "\n",
    "app = FastAPI()\n",
    "\n",
    "\n",
    "@app.get(\"/\")\n",
    "async def root():\n",
    "    return {\"message\": \"Hello World\"}"
   ]
  },
  {
   "cell_type": "code",
   "execution_count": null,
   "metadata": {},
   "outputs": [],
   "source": []
  }
 ],
 "metadata": {
  "accelerator": "TPU",
  "colab": {
   "private_outputs": true,
   "provenance": [],
   "toc_visible": true
  },
  "kernelspec": {
   "display_name": "proj2",
   "language": "python",
   "name": "proj2"
  },
  "language_info": {
   "codemirror_mode": {
    "name": "ipython",
    "version": 3
   },
   "file_extension": ".py",
   "mimetype": "text/x-python",
   "name": "python",
   "nbconvert_exporter": "python",
   "pygments_lexer": "ipython3",
   "version": "3.10.14"
  }
 },
 "nbformat": 4,
 "nbformat_minor": 4
}
